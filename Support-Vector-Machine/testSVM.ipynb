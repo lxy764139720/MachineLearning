{
 "cells": [
  {
   "cell_type": "code",
   "execution_count": 1,
   "metadata": {
    "collapsed": true,
    "pycharm": {
     "name": "#%%\n"
    }
   },
   "outputs": [],
   "source": [
    "import numpy as np\n",
    "\n",
    "def loadDataSet(fileName):\n",
    "    dataMat = []\n",
    "    labelMat = []\n",
    "    fr = open(fileName)\n",
    "    for line in fr.readlines():\n",
    "        lineArr = line.strip().split('\\t')\n",
    "        dataMat.append([float(lineArr[0]), float(lineArr[1])])\n",
    "        labelMat.append(float(lineArr[2]))\n",
    "    return dataMat, labelMat"
   ]
  },
  {
   "cell_type": "code",
   "execution_count": 2,
   "outputs": [],
   "source": [
    "data, label = loadDataSet('./testSet.txt')"
   ],
   "metadata": {
    "collapsed": false,
    "pycharm": {
     "name": "#%%\n"
    }
   }
  },
  {
   "cell_type": "code",
   "execution_count": 3,
   "outputs": [
    {
     "name": "stdout",
     "output_type": "stream",
     "text": [
      "L==H\n",
      "全部遍历, iter:0 i:0, pairs changed 0\n",
      "全部遍历, iter:1 i:1, pairs changed 1\n",
      "全部遍历, iter:2 i:2, pairs changed 2\n",
      "全部遍历, iter:3 i:3, pairs changed 3\n",
      "全部遍历, iter:4 i:4, pairs changed 4\n",
      "全部遍历, iter:5 i:5, pairs changed 5\n",
      "全部遍历, iter:6 i:6, pairs changed 5\n",
      "全部遍历, iter:7 i:7, pairs changed 6\n",
      "全部遍历, iter:8 i:8, pairs changed 7\n",
      "全部遍历, iter:9 i:9, pairs changed 7\n",
      "全部遍历, iter:10 i:10, pairs changed 8\n",
      "全部遍历, iter:11 i:11, pairs changed 8\n",
      "全部遍历, iter:12 i:12, pairs changed 8\n",
      "j not moving enough\n",
      "全部遍历, iter:13 i:13, pairs changed 8\n",
      "全部遍历, iter:14 i:14, pairs changed 8\n",
      "全部遍历, iter:15 i:15, pairs changed 8\n",
      "全部遍历, iter:16 i:16, pairs changed 8\n",
      "L==H\n",
      "全部遍历, iter:17 i:17, pairs changed 8\n",
      "j not moving enough\n",
      "全部遍历, iter:18 i:18, pairs changed 8\n",
      "全部遍历, iter:19 i:19, pairs changed 8\n",
      "全部遍历, iter:20 i:20, pairs changed 8\n",
      "全部遍历, iter:21 i:21, pairs changed 8\n",
      "全部遍历, iter:22 i:22, pairs changed 8\n",
      "L==H\n",
      "全部遍历, iter:23 i:23, pairs changed 8\n",
      "全部遍历, iter:24 i:24, pairs changed 8\n",
      "j not moving enough\n",
      "全部遍历, iter:25 i:25, pairs changed 8\n",
      "L==H\n",
      "全部遍历, iter:26 i:26, pairs changed 8\n",
      "全部遍历, iter:27 i:27, pairs changed 8\n",
      "全部遍历, iter:28 i:28, pairs changed 8\n",
      "L==H\n",
      "全部遍历, iter:29 i:29, pairs changed 8\n",
      "L==H\n",
      "全部遍历, iter:30 i:30, pairs changed 8\n",
      "全部遍历, iter:31 i:31, pairs changed 8\n",
      "全部遍历, iter:32 i:32, pairs changed 8\n",
      "全部遍历, iter:33 i:33, pairs changed 8\n",
      "全部遍历, iter:34 i:34, pairs changed 8\n",
      "全部遍历, iter:35 i:35, pairs changed 8\n",
      "全部遍历, iter:36 i:36, pairs changed 8\n",
      "全部遍历, iter:37 i:37, pairs changed 8\n",
      "全部遍历, iter:38 i:38, pairs changed 8\n",
      "j not moving enough\n",
      "全部遍历, iter:39 i:39, pairs changed 8\n",
      "全部遍历, iter:40 i:40, pairs changed 8\n",
      "全部遍历, iter:41 i:41, pairs changed 8\n",
      "全部遍历, iter:42 i:42, pairs changed 8\n",
      "全部遍历, iter:43 i:43, pairs changed 8\n",
      "全部遍历, iter:44 i:44, pairs changed 8\n",
      "全部遍历, iter:45 i:45, pairs changed 8\n",
      "L==H\n",
      "全部遍历, iter:46 i:46, pairs changed 8\n",
      "全部遍历, iter:47 i:47, pairs changed 8\n",
      "全部遍历, iter:48 i:48, pairs changed 8\n",
      "全部遍历, iter:49 i:49, pairs changed 8\n",
      "全部遍历, iter:50 i:50, pairs changed 8\n",
      "全部遍历, iter:51 i:51, pairs changed 8\n",
      "L==H\n",
      "全部遍历, iter:52 i:52, pairs changed 8\n",
      "全部遍历, iter:53 i:53, pairs changed 8\n",
      "L==H\n",
      "全部遍历, iter:54 i:54, pairs changed 8\n",
      "L==H\n",
      "全部遍历, iter:55 i:55, pairs changed 8\n",
      "全部遍历, iter:56 i:56, pairs changed 8\n",
      "全部遍历, iter:57 i:57, pairs changed 8\n",
      "全部遍历, iter:58 i:58, pairs changed 8\n",
      "全部遍历, iter:59 i:59, pairs changed 8\n",
      "全部遍历, iter:60 i:60, pairs changed 8\n",
      "全部遍历, iter:61 i:61, pairs changed 8\n",
      "j not moving enough\n",
      "全部遍历, iter:62 i:62, pairs changed 8\n",
      "全部遍历, iter:63 i:63, pairs changed 8\n",
      "全部遍历, iter:64 i:64, pairs changed 8\n",
      "全部遍历, iter:65 i:65, pairs changed 8\n",
      "全部遍历, iter:66 i:66, pairs changed 8\n",
      "全部遍历, iter:67 i:67, pairs changed 8\n",
      "全部遍历, iter:68 i:68, pairs changed 8\n",
      "L==H\n",
      "全部遍历, iter:69 i:69, pairs changed 8\n",
      "全部遍历, iter:70 i:70, pairs changed 8\n",
      "全部遍历, iter:71 i:71, pairs changed 8\n",
      "全部遍历, iter:72 i:72, pairs changed 8\n",
      "全部遍历, iter:73 i:73, pairs changed 8\n",
      "全部遍历, iter:74 i:74, pairs changed 8\n",
      "全部遍历, iter:75 i:75, pairs changed 8\n",
      "全部遍历, iter:76 i:76, pairs changed 8\n",
      "全部遍历, iter:77 i:77, pairs changed 8\n",
      "全部遍历, iter:78 i:78, pairs changed 8\n",
      "j not moving enough\n",
      "全部遍历, iter:79 i:79, pairs changed 8\n",
      "全部遍历, iter:80 i:80, pairs changed 8\n",
      "全部遍历, iter:81 i:81, pairs changed 8\n",
      "L==H\n",
      "全部遍历, iter:82 i:82, pairs changed 8\n",
      "全部遍历, iter:83 i:83, pairs changed 8\n",
      "全部遍历, iter:84 i:84, pairs changed 8\n",
      "全部遍历, iter:85 i:85, pairs changed 8\n",
      "全部遍历, iter:86 i:86, pairs changed 8\n",
      "全部遍历, iter:87 i:87, pairs changed 8\n",
      "全部遍历, iter:88 i:88, pairs changed 8\n",
      "全部遍历, iter:89 i:89, pairs changed 8\n",
      "全部遍历, iter:90 i:90, pairs changed 8\n",
      "全部遍历, iter:91 i:91, pairs changed 8\n",
      "全部遍历, iter:92 i:92, pairs changed 8\n",
      "全部遍历, iter:93 i:93, pairs changed 8\n",
      "全部遍历, iter:94 i:94, pairs changed 8\n",
      "全部遍历, iter:95 i:95, pairs changed 8\n",
      "全部遍历, iter:96 i:96, pairs changed 8\n",
      "L==H\n",
      "全部遍历, iter:97 i:97, pairs changed 8\n",
      "全部遍历, iter:98 i:98, pairs changed 8\n",
      "全部遍历, iter:99 i:99, pairs changed 8\n",
      "iteration number: 100\n"
     ]
    }
   ],
   "source": [
    "import svmImproved\n",
    "\n",
    "b, alpha = svmImproved.svm(data, label, 0.6, 0.001, 40)"
   ],
   "metadata": {
    "collapsed": false,
    "pycharm": {
     "name": "#%%\n"
    }
   }
  },
  {
   "cell_type": "code",
   "execution_count": 5,
   "outputs": [
    {
     "ename": "TypeError",
     "evalue": "can't multiply sequence by non-int of type 'numpy.float64'",
     "output_type": "error",
     "traceback": [
      "\u001B[1;31m---------------------------------------------------------------------------\u001B[0m",
      "\u001B[1;31mTypeError\u001B[0m                                 Traceback (most recent call last)",
      "\u001B[1;32m<ipython-input-5-3cc90d04173b>\u001B[0m in \u001B[0;36m<module>\u001B[1;34m\u001B[0m\n\u001B[1;32m----> 1\u001B[1;33m \u001B[0mw\u001B[0m \u001B[1;33m=\u001B[0m \u001B[0mnp\u001B[0m\u001B[1;33m.\u001B[0m\u001B[0msum\u001B[0m\u001B[1;33m(\u001B[0m\u001B[0malpha\u001B[0m\u001B[1;33m.\u001B[0m\u001B[0mdot\u001B[0m\u001B[1;33m(\u001B[0m\u001B[0mlabel\u001B[0m\u001B[1;33m)\u001B[0m\u001B[1;33m*\u001B[0m\u001B[0mdata\u001B[0m\u001B[1;33m)\u001B[0m\u001B[1;33m\u001B[0m\u001B[1;33m\u001B[0m\u001B[0m\n\u001B[0m\u001B[0;32m      2\u001B[0m \u001B[1;33m\u001B[0m\u001B[0m\n",
      "\u001B[1;31mTypeError\u001B[0m: can't multiply sequence by non-int of type 'numpy.float64'"
     ]
    }
   ],
   "source": [
    "w = np.sum(alpha.dot(label)*data)"
   ],
   "metadata": {
    "collapsed": false,
    "pycharm": {
     "name": "#%%\n"
    }
   }
  },
  {
   "cell_type": "code",
   "execution_count": 1,
   "outputs": [],
   "source": [
    "from SymmetricMatrix import SymmetricMatrix\n",
    "\n",
    "sm = SymmetricMatrix(4)"
   ],
   "metadata": {
    "collapsed": false,
    "pycharm": {
     "name": "#%%\n"
    }
   }
  },
  {
   "cell_type": "code",
   "execution_count": 2,
   "outputs": [
    {
     "name": "stdout",
     "output_type": "stream",
     "text": [
      "2\n"
     ]
    }
   ],
   "source": [
    "sm[1,1] = 1\n",
    "sm[1,2] = 2\n",
    "print(sm[2,1])"
   ],
   "metadata": {
    "collapsed": false,
    "pycharm": {
     "name": "#%%\n"
    }
   }
  },
  {
   "cell_type": "code",
   "execution_count": 4,
   "outputs": [
    {
     "name": "stdout",
     "output_type": "stream",
     "text": [
      "0\n"
     ]
    }
   ],
   "source": [
    "print(sm[0,1])"
   ],
   "metadata": {
    "collapsed": false,
    "pycharm": {
     "name": "#%%\n"
    }
   }
  }
 ],
 "metadata": {
  "kernelspec": {
   "display_name": "Python 3",
   "language": "python",
   "name": "python3"
  },
  "language_info": {
   "codemirror_mode": {
    "name": "ipython",
    "version": 2
   },
   "file_extension": ".py",
   "mimetype": "text/x-python",
   "name": "python",
   "nbconvert_exporter": "python",
   "pygments_lexer": "ipython2",
   "version": "2.7.6"
  }
 },
 "nbformat": 4,
 "nbformat_minor": 0
}