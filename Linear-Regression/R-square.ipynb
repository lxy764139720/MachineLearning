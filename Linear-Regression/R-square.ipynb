{
 "nbformat": 4,
 "nbformat_minor": 2,
 "metadata": {
  "language_info": {
   "name": "python",
   "codemirror_mode": {
    "name": "ipython",
    "version": 3
   },
   "version": "3.7.5-final"
  },
  "orig_nbformat": 2,
  "file_extension": ".py",
  "mimetype": "text/x-python",
  "name": "python",
  "npconvert_exporter": "python",
  "pygments_lexer": "ipython3",
  "version": 3,
  "kernelspec": {
   "name": "python37564bitbaseconda7516622bf88f48e2b9a771cde288cce2",
   "display_name": "Python 3.7.5 64-bit ('base': conda)"
  }
 },
 "cells": [
  {
   "cell_type": "markdown",
   "metadata": {},
   "source": [
    "# R^2"
   ]
  },
  {
   "cell_type": "code",
   "execution_count": 1,
   "metadata": {},
   "outputs": [],
   "source": [
    "import numpy as np\n",
    "import matplotlib.pyplot as plt\n",
    "from sklearn import datasets"
   ]
  },
  {
   "cell_type": "code",
   "execution_count": 2,
   "metadata": {},
   "outputs": [],
   "source": [
    "boston = datasets.load_boston()\n",
    "x = boston.data[:,5] # 只使用房间数量这个特征\n",
    "y = boston.target\n",
    "\n",
    "x = x[y<50.0]\n",
    "y = y[y<50.0]"
   ]
  },
  {
   "cell_type": "code",
   "execution_count": 3,
   "metadata": {},
   "outputs": [],
   "source": [
    "import sys\n",
    "sys.path.append(\"..\")\n",
    "from SplitDatasets import train_test_split"
   ]
  },
  {
   "cell_type": "code",
   "execution_count": 4,
   "metadata": {},
   "outputs": [],
   "source": [
    "x_train,x_test,y_train,y_test = train_test_split(x,y,seed = 666)"
   ]
  },
  {
   "cell_type": "code",
   "execution_count": 5,
   "metadata": {},
   "outputs": [
    {
     "data": {
      "text/plain": "SimpleLinearRegression()"
     },
     "execution_count": 5,
     "metadata": {},
     "output_type": "execute_result"
    }
   ],
   "source": [
    "from SimpleLinearRegression import SimpleLinearRegression\n",
    "\n",
    "sreg = SimpleLinearRegression()\n",
    "sreg.fit(x_train,y_train)"
   ]
  },
  {
   "cell_type": "code",
   "execution_count": 6,
   "metadata": {},
   "outputs": [
    {
     "data": {
      "text/plain": "7.8608543562689555"
     },
     "execution_count": 6,
     "metadata": {},
     "output_type": "execute_result"
    }
   ],
   "source": [
    "sreg.a_"
   ]
  },
  {
   "cell_type": "code",
   "execution_count": 7,
   "metadata": {},
   "outputs": [
    {
     "data": {
      "text/plain": "-27.459342806705543"
     },
     "execution_count": 7,
     "metadata": {},
     "output_type": "execute_result"
    }
   ],
   "source": [
    "sreg.b_"
   ]
  },
  {
   "cell_type": "code",
   "execution_count": 8,
   "metadata": {},
   "outputs": [],
   "source": [
    "y_predict = sreg.predict(x_test)"
   ]
  },
  {
   "cell_type": "code",
   "execution_count": 9,
   "metadata": {},
   "outputs": [
    {
     "data": {
      "text/plain": "array([23.09381156, 23.14883754, 19.20268865, 29.02089574, 25.6014241 ,\n        5.06887252, 24.66598243, 26.47397893, 15.52380881, 28.38416654,\n       17.29250104, 13.0633614 , 23.99780981, 21.37228445, 23.29033292,\n       21.66313607, 21.22292822, 19.94946982, 22.41777808, 25.17693796,\n       19.51712283, 24.14716604, 24.57165218, 19.07691498, 23.14097668,\n       28.78507011, 20.46042535, 18.18863844, 15.93257324, 29.46110359,\n       31.65428195, 19.36776659, 16.77368466, 38.07659996, 19.72936589,\n       20.99496345, 18.27510784, 24.22577459, 21.67099692, 22.7086297 ,\n       21.22292822, 19.17910609, 15.41375685, 19.41493172, 16.5771633 ,\n       23.13311583, 23.71481905, 30.13713706, 17.99211708, 24.69742585,\n       19.43065343, 25.4284853 , 22.71649055, 16.53785903, 19.13194096,\n       18.82536764, 22.15836989, 18.55809859, 25.03544258, 29.52399042,\n       18.75461995, 19.69006162, 18.59740287, 14.58836714, 18.81750679,\n       24.65812158, 20.83774636, 19.77653102, 27.88893272, 19.32846232,\n       22.9837596 , 22.86584678, 25.3262942 , 22.19767416, 26.25387501,\n       24.6188173 , 20.45256449, 16.55358073, 14.2346287 , 26.19884903,\n       35.96989099, 19.62717479, 21.01854601, 15.42947856, 20.90849405,\n       20.24818228, 21.79677059, 27.37797718, 22.65360371, 18.69959397,\n       23.5340194 , 27.31509035, 32.63688875, 20.02807836, 19.43851428,\n       30.38082355, 31.13546556, 25.00399917])"
     },
     "execution_count": 9,
     "metadata": {},
     "output_type": "execute_result"
    }
   ],
   "source": [
    "y_predict"
   ]
  },
  {
   "cell_type": "code",
   "execution_count": 10,
   "metadata": {},
   "outputs": [],
   "source": [
    "from sklearn.metrics import mean_squared_error"
   ]
  },
  {
   "cell_type": "code",
   "execution_count": 11,
   "metadata": {},
   "outputs": [],
   "source": [
    "r_square = 1-mean_squared_error(y_test,y_predict)/np.var(y_test)"
   ]
  },
  {
   "cell_type": "code",
   "execution_count": 12,
   "metadata": {},
   "outputs": [
    {
     "data": {
      "text/plain": "0.6129316803937322"
     },
     "execution_count": 12,
     "metadata": {},
     "output_type": "execute_result"
    }
   ],
   "source": [
    "r_square"
   ]
  },
  {
   "cell_type": "markdown",
   "metadata": {},
   "source": [
    "## 使用sklearn中的r2_score"
   ]
  },
  {
   "cell_type": "code",
   "execution_count": 13,
   "metadata": {},
   "outputs": [
    {
     "data": {
      "text/plain": "0.6129316803937324"
     },
     "execution_count": 13,
     "metadata": {},
     "output_type": "execute_result"
    }
   ],
   "source": [
    "from sklearn.metrics import r2_score\n",
    "\n",
    "r2_score(y_test,y_predict)"
   ]
  },
  {
   "cell_type": "markdown",
   "metadata": {},
   "source": [
    "## 使用自己封装的score"
   ]
  },
  {
   "cell_type": "code",
   "execution_count": 14,
   "metadata": {},
   "outputs": [
    {
     "data": {
      "text/plain": "0.6129316803937322"
     },
     "execution_count": 14,
     "metadata": {},
     "output_type": "execute_result"
    }
   ],
   "source": [
    "sreg.score(x_test,y_test)"
   ]
  }
 ]
}